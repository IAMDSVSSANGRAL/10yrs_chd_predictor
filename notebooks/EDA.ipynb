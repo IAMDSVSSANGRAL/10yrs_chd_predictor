{
 "cells": [
  {
   "cell_type": "markdown",
   "metadata": {},
   "source": [
    "IMPORTING THE LIABRARIES"
   ]
  },
  {
   "cell_type": "code",
   "execution_count": 1,
   "metadata": {},
   "outputs": [],
   "source": [
    "# Import Libraries\n",
    "import numpy as np\n",
    "import pandas as pd\n",
    "\n",
    "import matplotlib.pyplot as plt\n",
    "import seaborn as sns\n",
    "import missingno as msno\n",
    "\n",
    "import warnings\n",
    "warnings.filterwarnings('ignore')"
   ]
  },
  {
   "cell_type": "code",
   "execution_count": 3,
   "metadata": {},
   "outputs": [],
   "source": [
    "df = pd.read_csv(\"data/raw.csv\")"
   ]
  },
  {
   "cell_type": "code",
   "execution_count": 5,
   "metadata": {},
   "outputs": [
    {
     "data": {
      "text/html": [
       "<div>\n",
       "<style scoped>\n",
       "    .dataframe tbody tr th:only-of-type {\n",
       "        vertical-align: middle;\n",
       "    }\n",
       "\n",
       "    .dataframe tbody tr th {\n",
       "        vertical-align: top;\n",
       "    }\n",
       "\n",
       "    .dataframe thead th {\n",
       "        text-align: right;\n",
       "    }\n",
       "</style>\n",
       "<table border=\"1\" class=\"dataframe\">\n",
       "  <thead>\n",
       "    <tr style=\"text-align: right;\">\n",
       "      <th></th>\n",
       "      <th>id</th>\n",
       "      <th>age</th>\n",
       "      <th>education</th>\n",
       "      <th>sex</th>\n",
       "      <th>is_smoking</th>\n",
       "      <th>cigsperday</th>\n",
       "      <th>bpmeds</th>\n",
       "      <th>prevalentstroke</th>\n",
       "      <th>prevalenthyp</th>\n",
       "      <th>diabetes</th>\n",
       "      <th>totchol</th>\n",
       "      <th>sysbp</th>\n",
       "      <th>diabp</th>\n",
       "      <th>bmi</th>\n",
       "      <th>heartrate</th>\n",
       "      <th>glucose</th>\n",
       "      <th>tenyearchd</th>\n",
       "    </tr>\n",
       "  </thead>\n",
       "  <tbody>\n",
       "    <tr>\n",
       "      <th>3260</th>\n",
       "      <td>3260</td>\n",
       "      <td>43</td>\n",
       "      <td>1.0</td>\n",
       "      <td>F</td>\n",
       "      <td>NO</td>\n",
       "      <td>0.0</td>\n",
       "      <td>0.0</td>\n",
       "      <td>0</td>\n",
       "      <td>1</td>\n",
       "      <td>1</td>\n",
       "      <td>231.0</td>\n",
       "      <td>155.5</td>\n",
       "      <td>99.5</td>\n",
       "      <td>34.95</td>\n",
       "      <td>68.0</td>\n",
       "      <td>274.0</td>\n",
       "      <td>1</td>\n",
       "    </tr>\n",
       "    <tr>\n",
       "      <th>1609</th>\n",
       "      <td>1609</td>\n",
       "      <td>48</td>\n",
       "      <td>1.0</td>\n",
       "      <td>F</td>\n",
       "      <td>NO</td>\n",
       "      <td>0.0</td>\n",
       "      <td>0.0</td>\n",
       "      <td>0</td>\n",
       "      <td>0</td>\n",
       "      <td>0</td>\n",
       "      <td>244.0</td>\n",
       "      <td>117.0</td>\n",
       "      <td>81.5</td>\n",
       "      <td>28.96</td>\n",
       "      <td>67.0</td>\n",
       "      <td>78.0</td>\n",
       "      <td>0</td>\n",
       "    </tr>\n",
       "    <tr>\n",
       "      <th>2567</th>\n",
       "      <td>2567</td>\n",
       "      <td>43</td>\n",
       "      <td>1.0</td>\n",
       "      <td>M</td>\n",
       "      <td>YES</td>\n",
       "      <td>20.0</td>\n",
       "      <td>0.0</td>\n",
       "      <td>0</td>\n",
       "      <td>0</td>\n",
       "      <td>0</td>\n",
       "      <td>180.0</td>\n",
       "      <td>131.0</td>\n",
       "      <td>92.0</td>\n",
       "      <td>27.18</td>\n",
       "      <td>65.0</td>\n",
       "      <td>85.0</td>\n",
       "      <td>1</td>\n",
       "    </tr>\n",
       "    <tr>\n",
       "      <th>890</th>\n",
       "      <td>890</td>\n",
       "      <td>56</td>\n",
       "      <td>1.0</td>\n",
       "      <td>F</td>\n",
       "      <td>NO</td>\n",
       "      <td>0.0</td>\n",
       "      <td>0.0</td>\n",
       "      <td>0</td>\n",
       "      <td>0</td>\n",
       "      <td>0</td>\n",
       "      <td>280.0</td>\n",
       "      <td>123.0</td>\n",
       "      <td>77.0</td>\n",
       "      <td>27.96</td>\n",
       "      <td>65.0</td>\n",
       "      <td>NaN</td>\n",
       "      <td>0</td>\n",
       "    </tr>\n",
       "    <tr>\n",
       "      <th>2334</th>\n",
       "      <td>2334</td>\n",
       "      <td>65</td>\n",
       "      <td>1.0</td>\n",
       "      <td>M</td>\n",
       "      <td>NO</td>\n",
       "      <td>0.0</td>\n",
       "      <td>0.0</td>\n",
       "      <td>0</td>\n",
       "      <td>1</td>\n",
       "      <td>0</td>\n",
       "      <td>196.0</td>\n",
       "      <td>157.0</td>\n",
       "      <td>86.0</td>\n",
       "      <td>26.36</td>\n",
       "      <td>70.0</td>\n",
       "      <td>80.0</td>\n",
       "      <td>0</td>\n",
       "    </tr>\n",
       "  </tbody>\n",
       "</table>\n",
       "</div>"
      ],
      "text/plain": [
       "        id  age  education sex is_smoking  cigsperday  bpmeds  \\\n",
       "3260  3260   43        1.0   F         NO         0.0     0.0   \n",
       "1609  1609   48        1.0   F         NO         0.0     0.0   \n",
       "2567  2567   43        1.0   M        YES        20.0     0.0   \n",
       "890    890   56        1.0   F         NO         0.0     0.0   \n",
       "2334  2334   65        1.0   M         NO         0.0     0.0   \n",
       "\n",
       "      prevalentstroke  prevalenthyp  diabetes  totchol  sysbp  diabp    bmi  \\\n",
       "3260                0             1         1    231.0  155.5   99.5  34.95   \n",
       "1609                0             0         0    244.0  117.0   81.5  28.96   \n",
       "2567                0             0         0    180.0  131.0   92.0  27.18   \n",
       "890                 0             0         0    280.0  123.0   77.0  27.96   \n",
       "2334                0             1         0    196.0  157.0   86.0  26.36   \n",
       "\n",
       "      heartrate  glucose  tenyearchd  \n",
       "3260       68.0    274.0           1  \n",
       "1609       67.0     78.0           0  \n",
       "2567       65.0     85.0           1  \n",
       "890        65.0      NaN           0  \n",
       "2334       70.0     80.0           0  "
      ]
     },
     "execution_count": 5,
     "metadata": {},
     "output_type": "execute_result"
    }
   ],
   "source": [
    "# Dataset First Look\n",
    "df.sample(5)"
   ]
  },
  {
   "cell_type": "code",
   "execution_count": 6,
   "metadata": {},
   "outputs": [
    {
     "name": "stdout",
     "output_type": "stream",
     "text": [
      "Number of Rows: 3391\n",
      "Number of Columns: 17\n"
     ]
    }
   ],
   "source": [
    "# Dataset Rows & Columns count\n",
    "rows, columns = df.shape\n",
    "\n",
    "# Print the number of rows and columns\n",
    "print(\"Number of Rows:\", rows)\n",
    "print(\"Number of Columns:\", columns)"
   ]
  },
  {
   "cell_type": "code",
   "execution_count": 7,
   "metadata": {},
   "outputs": [
    {
     "name": "stdout",
     "output_type": "stream",
     "text": [
      "<class 'pandas.core.frame.DataFrame'>\n",
      "RangeIndex: 3391 entries, 0 to 3390\n",
      "Data columns (total 17 columns):\n",
      " #   Column           Non-Null Count  Dtype  \n",
      "---  ------           --------------  -----  \n",
      " 0   id               3391 non-null   int64  \n",
      " 1   age              3391 non-null   int64  \n",
      " 2   education        3304 non-null   float64\n",
      " 3   sex              3391 non-null   object \n",
      " 4   is_smoking       3391 non-null   object \n",
      " 5   cigsperday       3369 non-null   float64\n",
      " 6   bpmeds           3347 non-null   float64\n",
      " 7   prevalentstroke  3391 non-null   int64  \n",
      " 8   prevalenthyp     3391 non-null   int64  \n",
      " 9   diabetes         3391 non-null   int64  \n",
      " 10  totchol          3353 non-null   float64\n",
      " 11  sysbp            3391 non-null   float64\n",
      " 12  diabp            3391 non-null   float64\n",
      " 13  bmi              3377 non-null   float64\n",
      " 14  heartrate        3390 non-null   float64\n",
      " 15  glucose          3087 non-null   float64\n",
      " 16  tenyearchd       3391 non-null   int64  \n",
      "dtypes: float64(9), int64(6), object(2)\n",
      "memory usage: 450.5+ KB\n"
     ]
    }
   ],
   "source": [
    "# Dataset Info\n",
    "df.info()"
   ]
  },
  {
   "cell_type": "code",
   "execution_count": 10,
   "metadata": {},
   "outputs": [
    {
     "name": "stdout",
     "output_type": "stream",
     "text": [
      "Missing Values Count:\n",
      "id                   0\n",
      "age                  0\n",
      "education           87\n",
      "sex                  0\n",
      "is_smoking           0\n",
      "cigsperday          22\n",
      "bpmeds              44\n",
      "prevalentstroke      0\n",
      "prevalenthyp         0\n",
      "diabetes             0\n",
      "totchol             38\n",
      "sysbp                0\n",
      "diabp                0\n",
      "bmi                 14\n",
      "heartrate            1\n",
      "glucose            304\n",
      "tenyearchd           0\n",
      "dtype: int64\n"
     ]
    }
   ],
   "source": [
    "# Missing Values/Null Values Count\n",
    "missing_values_count = df.isnull().sum()\n",
    "\n",
    "# Print the count of missing values for each column\n",
    "print(\"Missing Values Count:\")\n",
    "print(missing_values_count)"
   ]
  },
  {
   "cell_type": "code",
   "execution_count": 11,
   "metadata": {},
   "outputs": [
    {
     "name": "stdout",
     "output_type": "stream",
     "text": [
      "Duplicate Value Count: 1\n"
     ]
    }
   ],
   "source": [
    "# Dataset Duplicate Value Count\n",
    "duplicate_count = df.duplicated().sum()\n",
    "\n",
    "# Print the count of duplicate values\n",
    "print(\"Duplicate Value Count:\", duplicate_count)"
   ]
  },
  {
   "cell_type": "code",
   "execution_count": 12,
   "metadata": {},
   "outputs": [
    {
     "data": {
      "image/png": "[encoded data removed]",
      "text/plain": [
       "<Figure size 1000x600 with 1 Axes>"
      ]
     },
     "metadata": {},
     "output_type": "display_data"
    }
   ],
   "source": [
    "# Visualizing the missing values\n",
    "plt.figure(figsize=(10, 6))  # Adjust the figure size as needed\n",
    "missing_values_count.plot(kind='bar', color='red')\n",
    "plt.xlabel('Columns')\n",
    "plt.ylabel('Null Value Count')\n",
    "plt.title('Null Value Counts by Column')\n",
    "plt.xticks(rotation=90)  # Rotate the x-axis labels for better visibility\n",
    "plt.show()"
   ]
  },
  {
   "cell_type": "code",
   "execution_count": null,
   "metadata": {},
   "outputs": [],
   "source": []
  }
 ],
 "metadata": {
  "kernelspec": {
   "display_name": "Python 3",
   "language": "python",
   "name": "python3"
  },
  "language_info": {
   "codemirror_mode": {
    "name": "ipython",
    "version": 3
   },
   "file_extension": ".py",
   "mimetype": "text/x-python",
   "name": "python",
   "nbconvert_exporter": "python",
   "pygments_lexer": "ipython3",
   "version": "3.12.9"
  }
 },
 "nbformat": 4,
 "nbformat_minor": 2
}
